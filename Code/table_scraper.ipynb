{
 "cells": [
  {
   "cell_type": "markdown",
   "metadata": {},
   "source": [
    "## Necessary Imports"
   ]
  },
  {
   "cell_type": "code",
   "execution_count": 6,
   "metadata": {},
   "outputs": [],
   "source": [
    "import requests\n",
    "import pandas as pd\n",
    "from bs4 import BeautifulSoup\n",
    "\n",
    "from selenium import webdriver\n",
    "from selenium.webdriver.chrome.service import Service\n",
    "from webdriver_manager.chrome import ChromeDriverManager"
   ]
  },
  {
   "cell_type": "markdown",
   "metadata": {},
   "source": [
    "## Read the HTML to a DF"
   ]
  },
  {
   "cell_type": "code",
   "execution_count": 7,
   "metadata": {},
   "outputs": [],
   "source": [
    "url = 'https://finance.yahoo.com/quote/HE%3DF/history/?period1=1015218000&period2=1718634541'\n",
    "response = requests.get(url)"
   ]
  },
  {
   "cell_type": "code",
   "execution_count": 8,
   "metadata": {},
   "outputs": [],
   "source": [
    "# Setup ChromeDriver\n",
    "options = webdriver.ChromeOptions()\n",
    "options.add_argument('--headless')  # Run in headless mode (no GUI)\n",
    "service = Service(ChromeDriverManager().install())\n",
    "driver = webdriver.Chrome(service=service, options=options)"
   ]
  },
  {
   "cell_type": "code",
   "execution_count": 9,
   "metadata": {},
   "outputs": [
    {
     "name": "stderr",
     "output_type": "stream",
     "text": [
      "C:\\Users\\lando\\AppData\\Local\\Temp\\ipykernel_4360\\2609791562.py:14: FutureWarning: Passing literal html to 'read_html' is deprecated and will be removed in a future version. To read from a literal string, wrap it in a 'StringIO' object.\n",
      "  tables = pd.read_html(str(soup))\n"
     ]
    },
    {
     "name": "stdout",
     "output_type": "stream",
     "text": [
      "[              Date   Open   High    Low  \\\n",
      "0     Jun 17, 2024  94.45  95.60  94.45   \n",
      "1     Jun 14, 2024  91.45  91.47  91.15   \n",
      "2     Jun 13, 2024  91.72  91.88  91.63   \n",
      "3     Jun 12, 2024  91.95  92.50  91.93   \n",
      "4     Jun 11, 2024  92.25  92.30  91.85   \n",
      "...            ...    ...    ...    ...   \n",
      "5594   Mar 8, 2002  58.25  58.25  57.90   \n",
      "5595   Mar 7, 2002  58.20  58.60  58.00   \n",
      "5596   Mar 6, 2002  58.50  58.80  57.70   \n",
      "5597   Mar 5, 2002  59.15  59.15  58.70   \n",
      "5598   Mar 4, 2002  59.70  59.88  59.60   \n",
      "\n",
      "      Close Close price adjusted for splits.  \\\n",
      "0                                      95.50   \n",
      "1                                      91.18   \n",
      "2                                      91.75   \n",
      "3                                      92.03   \n",
      "4                                      91.95   \n",
      "...                                      ...   \n",
      "5594                                   58.05   \n",
      "5595                                   58.40   \n",
      "5596                                   57.70   \n",
      "5597                                   58.80   \n",
      "5598                                   59.65   \n",
      "\n",
      "      Adj Close Adjusted close price adjusted for splits and dividend and/or capital gain distributions.  \\\n",
      "0                                                 95.50                                                    \n",
      "1                                                 91.18                                                    \n",
      "2                                                 91.75                                                    \n",
      "3                                                 92.03                                                    \n",
      "4                                                 91.95                                                    \n",
      "...                                                 ...                                                    \n",
      "5594                                              58.05                                                    \n",
      "5595                                              58.40                                                    \n",
      "5596                                              57.70                                                    \n",
      "5597                                              58.80                                                    \n",
      "5598                                              59.65                                                    \n",
      "\n",
      "     Volume  \n",
      "0      7634  \n",
      "1      2862  \n",
      "2      2862  \n",
      "3      4521  \n",
      "4      3984  \n",
      "...     ...  \n",
      "5594      -  \n",
      "5595      -  \n",
      "5596      -  \n",
      "5597      -  \n",
      "5598      -  \n",
      "\n",
      "[5599 rows x 7 columns]]\n"
     ]
    }
   ],
   "source": [
    "# Use Selenium to open the page\n",
    "driver.get(url)\n",
    "\n",
    "# Get the page source from Selenium\n",
    "html_content = driver.page_source\n",
    "\n",
    "# Close the Selenium WebDriver\n",
    "driver.quit()\n",
    "\n",
    "# Parse the HTML content using BeautifulSoup\n",
    "soup = BeautifulSoup(html_content, 'lxml')\n",
    "\n",
    "# Use pandas to extract tables from the HTML\n",
    "tables = pd.read_html(str(soup))\n",
    "\n",
    "# Now you can manipulate or display the tables\n",
    "print(tables)  # This will print all tables found"
   ]
  },
  {
   "cell_type": "markdown",
   "metadata": {},
   "source": [
    "## Save Desired Info"
   ]
  },
  {
   "cell_type": "code",
   "execution_count": 11,
   "metadata": {},
   "outputs": [],
   "source": [
    "df = tables[0]\n",
    "df.to_csv(\"../Data/LHF.csv\")"
   ]
  }
 ],
 "metadata": {
  "kernelspec": {
   "display_name": "Python 3",
   "language": "python",
   "name": "python3"
  },
  "language_info": {
   "codemirror_mode": {
    "name": "ipython",
    "version": 3
   },
   "file_extension": ".py",
   "mimetype": "text/x-python",
   "name": "python",
   "nbconvert_exporter": "python",
   "pygments_lexer": "ipython3",
   "version": "3.11.9"
  }
 },
 "nbformat": 4,
 "nbformat_minor": 2
}
